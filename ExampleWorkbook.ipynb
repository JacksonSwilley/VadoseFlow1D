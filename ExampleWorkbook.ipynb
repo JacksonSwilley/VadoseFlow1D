{
 "cells": [
  {
   "cell_type": "markdown",
   "metadata": {},
   "source": [
    "# VadoseFlow1D"
   ]
  },
  {
   "cell_type": "markdown",
   "metadata": {},
   "source": [
    "### Governing Equation:"
   ]
  },
  {
   "cell_type": "markdown",
   "metadata": {},
   "source": [
    "$$\n",
    "\\frac{\\partial \\theta}{\\partial t} - \\nabla \\cdot \\overrightarrow{K}(h)\\nabla h - \\frac{\\partial K_{z}}{\\partial z} = 0\n",
    "$$"
   ]
  },
  {
   "cell_type": "markdown",
   "metadata": {},
   "source": [
    "### Numerical Scheme:"
   ]
  },
  {
   "cell_type": "markdown",
   "metadata": {},
   "source": [
    "$$\n",
    "\\frac{1}{\\Delta z^2}\\left[ \n",
    "K_{1+1/2}^{n+1,m} \\left( H_{i+1}^{n+1,m} - H_{i}^{n+1,m} \\right) -\n",
    "K_{1-1/2}^{n+1,m} \\left( H_{i}^{n+1,m} - H_{i-1}^{n+1,m} \\right) \n",
    "\\right]\n",
    "$$\n",
    "$$\n",
    "+ \\frac{K_{1+1/2}^{n+1,m} - K_{1-1/2}^{n+1,m}}{\\Delta z}\n",
    "- \\frac{\\theta_{i}^{n+1,m} - \\theta_{i}^{n}}{\\Delta t}\n",
    "$$\n",
    "$$\n",
    "\\equiv R_{i}^{n+1,m}\n",
    "$$\n",
    "  \n",
    "**Where:**  \n",
    "$n$ is the timestep being calculated  \n",
    "$m$ is the current iteration"
   ]
  },
  {
   "cell_type": "markdown",
   "metadata": {},
   "source": [
    "\n",
    "$\n",
    "K \\equiv K_s \\frac{\n",
    "    \\{1 - (\\alpha|\\psi|)^{\\beta-1} \n",
    "    \\left[ 1+ (\\alpha |\\psi|)^{\\beta} \\right]^{-\\xi} \\}^2}{\n",
    "    \\left[1+(\\alpha|\\psi|)^{\\beta}\\right]^{\\xi /2}\n",
    "    }\n",
    "$  \n",
    "  \n",
    "$\\theta \\equiv \n",
    "\\frac{\\theta_s -\\theta_r}{\\left[1 + (\\alpha |\\psi|)^{\\beta} \\right]^{\\xi}} + \\theta_r\n",
    "$  \n",
    "  \n",
    "**And:**  \n",
    "  \n",
    "$\\beta = 2$  \n",
    "$\\xi = 1/2$\n"
   ]
  },
  {
   "cell_type": "code",
   "execution_count": 26,
   "metadata": {},
   "outputs": [],
   "source": [
    "import numpy as np\n",
    "\n",
    "class HydraulicConductivity(object):\n",
    "\n",
    "    def __init__(__self__, \\\n",
    "        k_s = 0.0922, \\\n",
    "        alpha = 0.0335, \\\n",
    "        beta = 2,\\\n",
    "        xi = 0.5):\n",
    "\n",
    "        __self__.k_s = k_s\n",
    "        __self__.alpha = alpha\n",
    "        __self__.beta = beta\n",
    "        __self__.xi = xi\n",
    "    \n",
    "    def ReturnK(__self__, h):\n",
    "\n",
    "        if(h<0):\n",
    "            k = __self__.k_s * ( 1 - (__self__.alpha * h)**(__self__.beta - 1) \\\n",
    "                * (1 + (__self__.alpha * h))**(__self__.beta))**(-__self__.xi)**2 \\\n",
    "                / (1 + (__self__.alpha * h)**(__self__.beta))**(__self__.xi/2)\n",
    "\n",
    "        else: k = __self__.k_s\n",
    "        \n",
    "        return k"
   ]
  },
  {
   "cell_type": "code",
   "execution_count": 30,
   "metadata": {},
   "outputs": [],
   "source": [
    "import numpy as np\n",
    "\n",
    "class VanGenuchten(object):\n",
    "\n",
    "    def __init__(__self__,\n",
    "            alpha = 0.0335, \\\n",
    "            theta_r = 0.102,\\\n",
    "            theta_s = 0.368,\\\n",
    "            beta = 2,\\\n",
    "            xi = 0.5):\n",
    "\n",
    "            __self__.alpha = alpha\n",
    "            __self__.theta_r = theta_r\n",
    "            __self__.theta_s = theta_s\n",
    "            __self__.beta = beta\n",
    "            __self__.xi = xi\n",
    "        \n",
    "    def ReturnTheta(__self__, psi):\n",
    "        if(psi < 0):\n",
    "            theta = (__self__.theta_s - __self__.theta_r) \\\n",
    "            / (1 + (__self__.alpha * psi)**(__self__.beta))**(__self__.xi) \\\n",
    "            + __self__.theta_r\n",
    "        \n",
    "        else: theta = __self__.theta_s\n",
    "\n",
    "        return theta\n",
    "    \n",
    "    def ReturnPsi(__self__, theta):\n",
    "        if(theta < __self__.theta_s):\n",
    "            psi = __self__.alpha * ( (( theta - __self__.theta_r ) \\\n",
    "                / ( __self__.theta_s - __self__.theta_r ) \\\n",
    "                )**(__self__.xi) )**(-__self__.beta)\n",
    "        \n",
    "        else: psi = 0\n",
    "\n",
    "        return psi"
   ]
  },
  {
   "cell_type": "code",
   "execution_count": 31,
   "metadata": {},
   "outputs": [],
   "source": [
    "def HarmonicMean(Ks, Lengths):\n",
    "\n",
    "    return (Lengths[0] + Lengths[1]) \\\n",
    "        / (Lengths[0]/Ks[0] +Lengths[1]/Ks[1])"
   ]
  },
  {
   "cell_type": "markdown",
   "metadata": {},
   "source": [
    "**Steps:**  \n",
    "1. Specify Initial Condition\n",
    "2. define $K$\n",
    "3. Calculate $\\Delta \\theta$\n",
    "4. Update $\\psi$ and $H$\n",
    "5. Check $\\left(R_{i}^{n+1,m}\\right)_{MPFD}$\n",
    "6. Repeat steps 2-5 until critera is met\n",
    "7. Take forward step\n",
    "8. Repeat steps 2-7 until simulation ends"
   ]
  },
  {
   "cell_type": "code",
   "execution_count": 50,
   "metadata": {},
   "outputs": [
    {
     "ename": "IndentationError",
     "evalue": "expected an indented block (3224182712.py, line 35)",
     "output_type": "error",
     "traceback": [
      "\u001b[0;36m  Input \u001b[0;32mIn [50]\u001b[0;36m\u001b[0m\n\u001b[0;31m    for t in range(1,Nt):\u001b[0m\n\u001b[0m                         ^\u001b[0m\n\u001b[0;31mIndentationError\u001b[0m\u001b[0;31m:\u001b[0m expected an indented block\n"
     ]
    }
   ],
   "source": [
    "import numpy as np\\\n",
    "\n",
    "Density  = 1000\n",
    "Gravity = 9.81\n",
    "\n",
    "Nz = 10\n",
    "Dz = 1\n",
    "DeltaZs = np.ones((Nz,0)) * Dz\n",
    "Zs = np.cumsum(DeltaZs) - DeltaZs/2\n",
    "\n",
    "Nt = 60\n",
    "Dt = 60\n",
    "DeltaTs = np.ones((Nt,1)) * Dt\n",
    "Ts = np.cumsum(DeltaTs) - np.squeeze(DeltaTs/2)\n",
    "\n",
    "H = np.zeros((Nt,Nz))\n",
    "\n",
    "Conductivity = HydraulicConductivity()\n",
    "SoilModel = VanGenuchten()\n",
    "\n",
    "InitialWaterContent = 0.36\n",
    "\n",
    "InitialPsi = SoilModel.ReturnPsi( InitialWaterContent )\n",
    "\n",
    "InitialCondition = InitialPsi + Zs\n",
    "\n",
    "def PicardIteration(theta):\n",
    "    Ks = np.zeros((Nz,0))\n",
    "    \n",
    "    for i in range(1,Nz):\n",
    "        Ks[i] = Conductivity.ReturnK(psi)\n",
    "\n",
    "\n",
    "            \n",
    "for t in range(1,Nt):\n",
    "    H[0,:] = InitialCondition\n",
    "    R = 1\n",
    "      \n",
    "        \n",
    "\n"
   ]
  },
  {
   "cell_type": "code",
   "execution_count": 49,
   "metadata": {},
   "outputs": [
    {
     "name": "stdout",
     "output_type": "stream",
     "text": [
      "[0.53453876 1.53453876 2.53453876 3.53453876 4.53453876 5.53453876\n",
      " 6.53453876 7.53453876 8.53453876 9.53453876]\n"
     ]
    }
   ],
   "source": [
    "print(InitialCondition)"
   ]
  },
  {
   "cell_type": "code",
   "execution_count": null,
   "metadata": {},
   "outputs": [],
   "source": []
  }
 ],
 "metadata": {
  "kernelspec": {
   "display_name": "Python 3.9.7 64-bit",
   "language": "python",
   "name": "python3"
  },
  "language_info": {
   "codemirror_mode": {
    "name": "ipython",
    "version": 3
   },
   "file_extension": ".py",
   "mimetype": "text/x-python",
   "name": "python",
   "nbconvert_exporter": "python",
   "pygments_lexer": "ipython3",
   "version": "3.9.7 (default, Sep  3 2021, 04:31:11) \n[Clang 12.0.5 (clang-1205.0.22.9)]"
  },
  "orig_nbformat": 4,
  "vscode": {
   "interpreter": {
    "hash": "b0fa6594d8f4cbf19f97940f81e996739fb7646882a419484c72d19e05852a7e"
   }
  }
 },
 "nbformat": 4,
 "nbformat_minor": 2
}
